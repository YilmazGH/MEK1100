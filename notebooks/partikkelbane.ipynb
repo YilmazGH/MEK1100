{
 "cells": [
  {
   "cell_type": "markdown",
   "metadata": {},
   "source": [
    "# Eksempel 1\n",
    "\n",
    "En partikkel skytes ut i tyngdefeltet med fart $v_0$ i en retning som danner en vinkel $\\alpha$ med horisontalen (z-aksen). Vi antar at det kun er tyngdekraften som virker, så Newton's annen lov gir oss at \n",
    "\n",
    "$$\n",
    "m \\vec{a} = -mg \\mathbf{k},\n",
    "$$\n",
    "\n",
    "der $m$ er massen til partikkelen. Vi kan se bort ifra massen siden vi kan dele begge sider på $m$.\n",
    "\n",
    "<img src='partikkelskytes.png' width=600>"
   ]
  },
  {
   "cell_type": "markdown",
   "metadata": {},
   "source": [
    "Vi kan integrere Newton's annen low to ganger og finne posisjonen $\\vec{r}(t)=x \\mathbf{i} + z \\mathbf{k}$ for partikkelen. Bruker først at $\\vec{a}=d\\vec{v}/dt$ slik at vi får\n",
    "\n",
    "$$\n",
    "\\begin{split}\n",
    "\\frac{d \\vec{v}}{dt} &= -g\\mathbf{k}.\n",
    "\\end{split}\n",
    "$$\n",
    "\n",
    "Integrerer opp og får\n",
    "\n",
    "$$\n",
    "\\begin{align*}\n",
    "\\vec{v}(t) - \\vec{v}(0) &= -g t \\mathbf{k}.\n",
    "\\end{align*}\n",
    "$$"
   ]
  },
  {
   "cell_type": "markdown",
   "metadata": {},
   "source": [
    "Bruker så at $\\vec{v} = d \\vec{r} / dt$ og integrerer på samme måte fra\n",
    "\n",
    "$$\n",
    "\\frac{d \\vec{r}}{dt} = \\vec{v}(0) - g t \\mathbf{k}\n",
    "$$\n",
    "\n",
    "Ender opp med at\n",
    "\n",
    "$$\n",
    "\\vec{r}(t) - \\vec{r}(0) = \\vec{v}(0) t - \\frac{1}{2}g t^2 \\mathbf{k},\n",
    "$$\n",
    "\n",
    "der vi kan ta bort $\\vec{r}(0)$ siden vi regner at utskytningen starter i origo. \n",
    "\n",
    "Vektoren $\\vec{v}(0)$ kan dekomponeres langs $x$ og $y$-akser ved å bruke vinkelen $\\alpha$. Får at \n",
    "\n",
    "$$\n",
    "\\vec{v}(0) = v_0 \\cos(\\alpha) \\mathbf{i} + v_0 \\sin(\\alpha) \\mathbf{k},\n",
    "$$\n",
    "\n",
    "og dermed har vi funnet posisjonsvektoren $\\vec{r}$ med komponenter\n",
    "\n",
    "$$\n",
    "\\begin{align*}\n",
    "  x &= v_0 \\cos(\\alpha) t\\\\\n",
    "  z &= v_0 \\sin(\\alpha) t - \\frac{1}{2}gt^2\n",
    "\\end{align*}\n",
    "$$"
   ]
  },
  {
   "cell_type": "markdown",
   "metadata": {},
   "source": [
    "Vi skal nå modellere dette med et interaktivt plot som viser partikkelbanen og vektoren. Til dette trenger vi å gjøre et par observasjoner. \n",
    "\n",
    " 1. Hva er domenet til partikkelen?\n",
    "   1. Hvor høyt skytes partikkelen?\n",
    "   2. Hvor lang tid før den kommer ned igjen?\n",
    "\n",
    "Finner svar på A ved å se på når hastigheten i z-retningen er lik null\n",
    "\n",
    "$$\n",
    "\\begin{align*}\n",
    "v_0 \\sin(\\alpha) - g t_0 &= 0 \\\\\n",
    "t_0 &= \\frac{v_0 \\sin(\\alpha)}{g}\n",
    "\\end{align*}\n",
    "$$"
   ]
  },
  {
   "cell_type": "markdown",
   "metadata": {},
   "source": [
    "Høyden ved $t_0$ er gitt ved $z(t_0)$\n",
    "\n",
    "$$\n",
    "z(t_0) = \\frac{(v_0 \\sin(\\alpha))^2}{2 g}\n",
    "$$\n",
    "\n",
    "Så domenet må være minst $[0, z(t_0)]$ for å få med hele partikkelbanen. \n",
    "\n",
    "Tiden det tar for partikkelen å komme ned igjen finner vi ved å løse $z(t) = 0$\n",
    "\n",
    "$$\n",
    "\\begin{align*}\n",
    "v_0 \\sin(\\alpha) t - \\frac{1}{2}gt^2 &= 0 \\\\\n",
    "t\\left(v_0 \\sin(\\alpha) - \\frac{1}{2}g t \\right) &= 0\n",
    "\\end{align*}\n",
    "$$"
   ]
  },
  {
   "cell_type": "markdown",
   "metadata": {},
   "source": [
    "som løses enkelt til\n",
    "\n",
    "$$\n",
    "t = 0 \\lor t = \\frac{2 v_0 \\sin(\\alpha)}{g}\n",
    "$$\n",
    "\n",
    "Så da ser vi at simuleringen må gå minst i $t \\in [0, \\frac{2 v_0 \\sin(\\alpha)}{g}]$\n",
    "\n",
    "Vi finner domenenet for x-aksen ved å sette sluttiden inn i uttrykket for $x$\n",
    "\n",
    "$$\n",
    "x(\\frac{2 v_0 \\sin(\\alpha)}{g}) = v_0 \\cos(\\alpha) \\frac{2 v_0 \\sin(\\alpha)}{g}\n",
    "$$\n",
    "\n",
    "Så x-domenet blir $[0, \\frac{2 v_0^2 \\cos(\\alpha)\\sin(\\alpha)}{g}]$.\n",
    "\n",
    "Da er vi klare til å starte plottingen!\n",
    "\n",
    "Vi starter med å importere verktøyene vi trenger. Vi vil lage et interaktivt plot som viser partikkelen langs en bane. Da kan vi bruke [ipywidgets](https://ipywidgets.readthedocs.io/en/latest/)."
   ]
  },
  {
   "cell_type": "code",
   "execution_count": 1,
   "metadata": {},
   "outputs": [],
   "source": [
    "from ipywidgets import interact\n",
    "import matplotlib.pyplot as plt\n",
    "import numpy as np"
   ]
  },
  {
   "cell_type": "code",
   "execution_count": 2,
   "metadata": {},
   "outputs": [
    {
     "data": {
      "application/vnd.jupyter.widget-view+json": {
       "model_id": "c7f47cd8d1d0478ab5061e73a7c6676a",
       "version_major": 2,
       "version_minor": 0
      },
      "text/plain": [
       "interactive(children=(FloatSlider(value=0.7928822215139677, description='t', max=1.5857644430279354, step=0.07…"
      ]
     },
     "metadata": {},
     "output_type": "display_data"
    },
    {
     "data": {
      "text/plain": [
       "<function __main__.partikkelbane(t)>"
      ]
     },
     "execution_count": 2,
     "metadata": {},
     "output_type": "execute_result"
    }
   ],
   "source": [
    "%matplotlib inline\n",
    "\n",
    "g = 9.81\n",
    "v0 = 10\n",
    "a = np.pi/4\n",
    "t_end = 2*v0*np.sin(a)/g*1.1\n",
    "t0 = np.linspace(0, t_end, 100) \n",
    "x0 = v0*np.cos(a)*t0\n",
    "z0 = v0*np.sin(a)*t0 - 0.5*g*t0**2\n",
    "    \n",
    "def partikkelbane(t):    \n",
    "    # plot hele partikkelbanen\n",
    "    plt.figure()\n",
    "    plt.plot(x0, z0, 'b')\n",
    "    \n",
    "    # plot partikkelen\n",
    "    x = v0*np.cos(a)*t\n",
    "    z = v0*np.sin(a)*t - 0.5*g*t**2\n",
    "    plt.plot(x, z, 'ok')\n",
    "    \n",
    "    # plot en hastighetsvektor ved t0 og t\n",
    "    plt.arrow(0, 0, 0.5*v0*np.cos(a), 0.5*v0*np.sin(a), width=0.05)\n",
    "    plt.arrow(x, z, 0.5*v0*np.cos(a), 0.5*(v0*np.sin(a)-g*t), width=0.05)\n",
    "    \n",
    "    #posisjonsvektor\n",
    "    plt.arrow(0, 0, x, z, width=0.05, length_includes_head=True)\n",
    "    \n",
    "    plt.ylim(z0.min(), 2*z0.max())\n",
    "    \n",
    "    plt.text(0.25*v0*np.cos(a), 0.3*v0*np.sin(a), r'$\\vec{v}(0)$')\n",
    "    plt.text(x+0.25*v0*np.cos(a), z+0.2*(v0*np.sin(a)-g*t), r'$\\vec{v}(t)$')\n",
    "    plt.text(0.5*x, 0.4*z, r'$\\vec{r}(t)$')\n",
    "    \n",
    "    plt.show()\n",
    "    \n",
    "interact(partikkelbane, t=(0, t_end, t_end/20))"
   ]
  },
  {
   "cell_type": "markdown",
   "metadata": {},
   "source": [
    "# Sympy\n",
    "\n",
    "Vi skal nå gjøre samme implemetering ved å benytte [sympy](https://sympy.org) for eksakt analytisk manipulering av vektorer. Til det skal vi bruke `sympy` sin `vector`-modul som inneholder en klasse for et koordinatsystem `CoordSys3D`."
   ]
  },
  {
   "cell_type": "code",
   "execution_count": 3,
   "metadata": {},
   "outputs": [],
   "source": [
    "import sympy as sp\n",
    "from sympy.vector import CoordSys3D"
   ]
  },
  {
   "cell_type": "markdown",
   "metadata": {},
   "source": [
    "Vi antar nå først at både `v0,a` og `t` er variable"
   ]
  },
  {
   "cell_type": "code",
   "execution_count": 4,
   "metadata": {},
   "outputs": [
    {
     "name": "stdout",
     "output_type": "stream",
     "text": [
      "(t*v0*cos(a))*N.i + (-4.905*t**2 + t*v0*sin(a))*N.k\n",
      "(v0*cos(a))*N.i + (-9.81*t + v0*sin(a))*N.k\n"
     ]
    }
   ],
   "source": [
    "g = 9.81\n",
    "v0, a, t = sp.symbols('v0,a,t')\n",
    "N = CoordSys3D('N')\n",
    "\n",
    "x = v0*sp.cos(a)*t \n",
    "z = v0*sp.sin(a)*t - 0.5*g*t**2\n",
    "\n",
    "# Definer posisjonsvektoren\n",
    "r = x*N.i + z*N.k\n",
    "\n",
    "# Deriver mhp t for å finne hastigheten\n",
    "v = sp.diff(r, t)\n",
    "\n",
    "print(r)\n",
    "print(v)"
   ]
  },
  {
   "cell_type": "code",
   "execution_count": 5,
   "metadata": {},
   "outputs": [],
   "source": [
    "# Velg parametere for v0 og vinkel a\n",
    "d = {\n",
    "    'v0': 10, \n",
    "    'a': np.pi/4\n",
    "    }\n",
    "\n",
    "v0 = d['v0']\n",
    "a = d['a']\n",
    "t_end = 2*v0*np.sin(a)/g*1.1\n",
    "\n",
    "# Redefiner variable med disse parameterne\n",
    "x = x.subs(d)\n",
    "z = z.subs(d)\n",
    "r = r.subs(d)\n",
    "v = v.subs(d)\n",
    "\n",
    "# Gjør x og z kallbare for numpy-arrays\n",
    "x = sp.lambdify(t, x)\n",
    "z = sp.lambdify(t, z)\n",
    "\n",
    "# Evaluer x og z for hele tidsdomenet\n",
    "t0 = np.linspace(0, t_end, 100)\n",
    "x0 = x(t0)\n",
    "z0 = z(t0)"
   ]
  },
  {
   "cell_type": "code",
   "execution_count": 6,
   "metadata": {},
   "outputs": [
    {
     "data": {
      "application/vnd.jupyter.widget-view+json": {
       "model_id": "a707d933160348608be6b1aa6761a3fa",
       "version_major": 2,
       "version_minor": 0
      },
      "text/plain": [
       "interactive(children=(FloatSlider(value=0.7928822215139677, description='t', max=1.5857644430279354, step=0.07…"
      ]
     },
     "metadata": {},
     "output_type": "display_data"
    },
    {
     "data": {
      "text/plain": [
       "<function __main__.partikkelbane(t)>"
      ]
     },
     "execution_count": 6,
     "metadata": {},
     "output_type": "execute_result"
    }
   ],
   "source": [
    "%matplotlib inline\n",
    "    \n",
    "def partikkelbane(t):    \n",
    "    # plot hele partikkelbanen\n",
    "    plt.figure()\n",
    "    plt.plot(x0, z0, 'b')\n",
    "    \n",
    "    # plot partikkelen\n",
    "    plt.plot(x(t), z(t), 'ok')\n",
    "    \n",
    "    # plot en hastighetsvektor ved t0 og t\n",
    "    plt.arrow(0, 0, 0.5*v0*np.cos(a), 0.5*v0*np.sin(a), width=0.05)\n",
    "    plt.arrow(x(t), z(t), 0.5*v0*np.cos(a), 0.5*(v0*np.sin(a)-g*t), width=0.05)\n",
    "    \n",
    "    #posisjonsvektor\n",
    "    plt.arrow(0, 0, x(t), z(t), width=0.05, length_includes_head=True)\n",
    "    \n",
    "    plt.ylim(z0.min(), 2*z0.max())\n",
    "    \n",
    "    plt.text(0.25*v0*np.cos(a), 0.3*v0*np.sin(a), r'$\\vec{v}(0)$')\n",
    "    plt.text(x(t)+0.25*v0*np.cos(a), z(t)+0.2*(v0*np.sin(a)-g*t), r'$\\vec{v}(t)$')\n",
    "    plt.text(0.5*x(t), 0.4*z(t), r'$\\vec{r}(t)$')\n",
    "    \n",
    "    plt.show()\n",
    "    \n",
    "interact(partikkelbane, t=(0, t_end, t_end/20))"
   ]
  }
 ],
 "metadata": {
  "kernelspec": {
   "display_name": "Python 3",
   "language": "python",
   "name": "python3"
  },
  "language_info": {
   "codemirror_mode": {
    "name": "ipython",
    "version": 3
   },
   "file_extension": ".py",
   "mimetype": "text/x-python",
   "name": "python",
   "nbconvert_exporter": "python",
   "pygments_lexer": "ipython3",
   "version": "3.8.0"
  }
 },
 "nbformat": 4,
 "nbformat_minor": 2
}
