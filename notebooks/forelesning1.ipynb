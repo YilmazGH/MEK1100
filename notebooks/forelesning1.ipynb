{
 "cells": [
  {
   "cell_type": "markdown",
   "metadata": {
    "slideshow": {
     "slide_type": "slide"
    }
   },
   "source": [
    "# <center>Felt i naturen, skalar- og vektorfelt, skalering</center>\n",
    "\n",
    "## Pensum\n",
    "\n",
    " * Kapittel 1 i Matthews\n",
    " * Kapittel 1 i Gjevik og Fagerland\n",
    " \n",
    "## Mål\n",
    "\n",
    "* Forstå skalarer og vektorer \n",
    "* Lære om enhetsvektorer\n",
    "* Lære å addere og subtrahere vektorer, geometrisk og algebraisk\n",
    "* Utforske bruk av vektorer i Geogebra \n",
    "* Skalering av likninger"
   ]
  },
  {
   "cell_type": "markdown",
   "metadata": {
    "slideshow": {
     "slide_type": "slide"
    }
   },
   "source": [
    "<center><h1>Felter</h1></center>\n",
    "\n",
    "<p></p>\n",
    "\n",
    "<center>\n",
    "    <ul>\n",
    "        <li>En skalar er en funksjon med kun én verdi</li>\n",
    "        <li>En vektor er en funksjon med både størrelse og retning</li>\n",
    "        <li>Både vektorer og skalarer er entydige funksjoner av posisjon i rommet</li>\n",
    "    </ul>\n",
    "</center>"
   ]
  },
  {
   "cell_type": "markdown",
   "metadata": {
    "slideshow": {
     "slide_type": "fragment"
    }
   },
   "source": [
    "<div class='row'>\n",
    "    <div class='column'>\n",
    "        <h2>Eksempel på skalarfelt</h2>\n",
    "        <img src='../figs/hurrycanefloyd.png' alt='Hurrycane Floyd'>\n",
    "    </div>\n",
    "    <div class='column'>\n",
    "        <h2>Eksempel på vektorfelt</h2>\n",
    "        <img src='../figs/hurrycanefloyd.png' alt='Hurrycane Floyd'>\n",
    "    </div>\n",
    "</div>"
   ]
  },
  {
   "attachments": {},
   "cell_type": "markdown",
   "metadata": {
    "slideshow": {
     "slide_type": "slide"
    }
   },
   "source": [
    "# <center>Vektorer og punkter</center>\n",
    "<p></p>\n",
    "<center>\n",
    "<div class='row'>\n",
    "    <div class='column'>\n",
    "        Et punkt har tre koordinater i $\\mathbb{R}^3$ <br />\n",
    "        P: (x, y, z)\n",
    "    </div>\n",
    "    <div class='column'>\n",
    "        En vektor har tre skalarer som  <br /> vekter tre enhetsvektorer <br />\n",
    "        $\\vec{u} = u_x \\mathbf{i} + u_y \\mathbf{j} + u_z \\mathbf{k}$\n",
    "    </div>\n",
    "</div>\n",
    "</center>\n",
    "\n",
    "<p></p>\n",
    "<div class='frame'>\n",
    "<iframe scrolling='yes' src='https://www.geogebra.org/graphing/tv7nxwmy' width='1000' height='500'></iframe>\n",
    "</div>\n"
   ]
  },
  {
   "cell_type": "markdown",
   "metadata": {
    "slideshow": {
     "slide_type": "notes"
    }
   },
   "source": [
    "Vis punkter og vektorer. Endre posisjonen til en vektor og noter at den ikke endrer verdier. Vis hva en posisjonsvektor er."
   ]
  },
  {
   "cell_type": "markdown",
   "metadata": {
    "slideshow": {
     "slide_type": "subslide"
    }
   },
   "source": [
    "# <center>Vektorer og punkter</center>\n",
    "\n",
    "<p></p>\n",
    "<center>\n",
    "<ul>\n",
    "  <li>Et punkt P har posisjonen gitt!</li>\n",
    "  <li>En skalar $T$ har størrelse, men ikke posisjon!</li>\n",
    "  <li>En vektor $\\vec{u}$ har størrelse og retning, men ikke posisjon!</li>\n",
    "  <li>Derfor skriver vi $T(x,y,z), \\vec{u}(x,y,z)$ <br /> \n",
    "    og vi må løse likninger for feltene $T$ og $\\vec{u}$ i hele rommet. <br />\n",
    "    Noen ganger også i tid $T(x,y,z,t), \\vec{u}(x,y,z,t)$.</li>\n",
    "</ul>\n",
    "</center>"
   ]
  },
  {
   "cell_type": "markdown",
   "metadata": {
    "slideshow": {
     "slide_type": "fragment"
    }
   },
   "source": [
    "<p></p>\n",
    "<center>\n",
    "<h1>Skalar- og vektorfelt er funksjoner av rom og tid</h1>\n",
    "</center>"
   ]
  },
  {
   "attachments": {},
   "cell_type": "markdown",
   "metadata": {
    "slideshow": {
     "slide_type": "slide"
    }
   },
   "source": [
    "# <center>Vektor addisjon</center>\n",
    "\n",
    "<p></p>\n",
    "\n",
    "<div class='row'>\n",
    "    <div class='column'>\n",
    "\n",
    "<center><h2>2 dimensjoner</h2></center>\n",
    "\n",
    "<table>\n",
    "    <tr>\n",
    "        <td class=\"noBorder\">$\\vec{u}=$</td><td class=\"noBorder\">$u_x\\mathbf{i}$</td><td class=\"noBorder\">$+ u_y \\mathbf{j}$</td>\n",
    "    </tr>\n",
    "    <tr>\n",
    "        <td class=\"noBorder\">$\\vec{v}=$</td><td class=\"noBorder\">$v_x\\mathbf{i}$</td><td class=\"noBorder\">$+ v_y \\mathbf{j}$</td>\n",
    "    </tr>\n",
    "    <tr>\n",
    "        <td class=\"noBorder\">$\\vec{u} + \\vec{v}=$</td><td class=\"noBorder\">$(u_x+v_x)\\mathbf{i}$</td><td class=\"noBorder\">$+ (u_y+v_y)\\mathbf{j}$</td>\n",
    "    </tr>\n",
    "</table>\n",
    "    </div>\n",
    "    <div class='column' align='right'>\n",
    "      <a href='https://www.geogebra.org/m/qqwwpuq5'><img src='../figs/Vektoradd2d.png' width='95%'></a>\n",
    "    </div>\n",
    "</div>\n",
    "\n",
    "<div class='row'>\n",
    "    <div class='column'>\n",
    "\n",
    "<center><h2>3 dimensjoner</h2></center>\n",
    "\n",
    "<table>\n",
    "    <tr>\n",
    "        <td class=\"noBorder\">$\\vec{u}=$</td><td class=\"noBorder\">$u_x\\mathbf{i}$</td><td class=\"noBorder\">$+ u_y \\mathbf{j}$</td><td class=\"noBorder\">$+ u_z \\mathbf{k}$</td>\n",
    "    </tr>\n",
    "    <tr>\n",
    "        <td class=\"noBorder\">$\\vec{v}=$</td><td class=\"noBorder\">$v_x\\mathbf{i}$</td><td class=\"noBorder\">$+ v_y \\mathbf{j}$</td><td class=\"noBorder\">$+ v_z \\mathbf{k}$</td>\n",
    "    </tr>\n",
    "    <tr>\n",
    "        <td class=\"noBorder\">$\\vec{u} + \\vec{v}=$</td><td class=\"noBorder\">$(u_x+v_x)\\mathbf{i}$</td><td class=\"noBorder\">$+ (u_y+v_y)\\mathbf{j}$</td><td class=\"noBorder\">$+ (u_z+v_z)\\mathbf{k}$</td>\n",
    "    </tr>\n",
    "</table>\n",
    "    </div>\n",
    "    <div class='column' align='right'>\n",
    "      <a href='https://www.geogebra.org/3d/y3hagfz8'><img src='../figs/Vektoradd3d.png' width='95%'></a>\n",
    "    </div>\n",
    "</div>\n"
   ]
  },
  {
   "cell_type": "markdown",
   "metadata": {
    "slideshow": {
     "slide_type": "subslide"
    }
   },
   "source": [
    "<iframe scrolling=\"no\" title=\"Vektor addisjon i 2D\" src=\"https://www.geogebra.org/material/iframe/id/udftbvwt/width/1478/height/721/border/888888/sfsb/true/smb/false/stb/false/stbh/false/ai/false/asb/false/sri/false/rc/true/ld/true/sdz/true/ctl/false\" width=\"1478px\" height=\"721px\" style=\"border:0px;\"> </iframe>"
   ]
  },
  {
   "cell_type": "markdown",
   "metadata": {
    "slideshow": {
     "slide_type": "subslide"
    }
   },
   "source": [
    "# <center>Vektor subtraksjon</center>\n",
    "\n",
    "<p></p>\n",
    "\n",
    "<div class='row'>\n",
    "    <div class='column'>\n",
    "\n",
    "<center><h2>2 dimensjoner</h2></center>\n",
    "\n",
    "<table>\n",
    "    <tr>\n",
    "        <td class=\"noBorder\">$\\vec{u}=$</td><td class=\"noBorder\">$u_x\\mathbf{i}$</td><td class=\"noBorder\">$+ u_y \\mathbf{j}$</td>\n",
    "    </tr>\n",
    "    <tr>\n",
    "        <td class=\"noBorder\">$\\vec{v}=$</td><td class=\"noBorder\">$v_x\\mathbf{i}$</td><td class=\"noBorder\">$+ v_y \\mathbf{j}$</td>\n",
    "    </tr>\n",
    "    <tr>\n",
    "        <td class=\"noBorder\">$\\vec{u} - \\vec{v}=$</td><td class=\"noBorder\">$(u_x-v_x)\\mathbf{i}$</td><td class=\"noBorder\">$+ (u_y-v_y)\\mathbf{j}$</td>\n",
    "    </tr>\n",
    "</table>\n",
    "    </div>\n",
    "    <div class='column' align='right'>\n",
    "      <a href='https://www.geogebra.org/m/szshemcc'>\n",
    "          <img src='../figs/Vektorsub2d.png' width='95%'>\n",
    "      </a>\n",
    "    </div>\n",
    "</div>\n",
    "\n",
    "<div class='row'>\n",
    "    <div class='column'>\n",
    "\n",
    "<center><h2>3 dimensjoner</h2></center>\n",
    "\n",
    "<table>\n",
    "    <tr>\n",
    "        <td class=\"noBorder\">$\\vec{u}=$</td><td class=\"noBorder\">$u_x\\mathbf{i}$</td><td class=\"noBorder\">$+ u_y \\mathbf{j}$</td><td class=\"noBorder\">$+ u_z \\mathbf{k}$</td>\n",
    "    </tr>\n",
    "    <tr>\n",
    "        <td class=\"noBorder\">$\\vec{v}=$</td><td class=\"noBorder\">$v_x\\mathbf{i}$</td><td class=\"noBorder\">$+ v_y \\mathbf{j}$</td><td class=\"noBorder\">$+ v_z \\mathbf{k}$</td>\n",
    "    </tr>\n",
    "    <tr>\n",
    "        <td class=\"noBorder\">$\\vec{u} - \\vec{v}=$</td><td class=\"noBorder\">$(u_x-v_x)\\mathbf{i}$</td><td class=\"noBorder\">$+ (u_y-v_y)\\mathbf{j}$</td><td class=\"noBorder\">$+ (u_z-v_z)\\mathbf{k}$</td>\n",
    "    </tr>\n",
    "</table>\n",
    "    </div>\n",
    "    <div class='column' align='right'>\n",
    "      <a href='https://www.geogebra.org/m/cwyczdya'>\n",
    "      <img src='../figs/Vektorsub3d.png' width='95%'>\n",
    "      </a>\n",
    "    </div>\n",
    "</div>\n"
   ]
  },
  {
   "cell_type": "markdown",
   "metadata": {
    "slideshow": {
     "slide_type": "subslide"
    }
   },
   "source": [
    "# <center>Vektor skalering</center>\n",
    "\n"
   ]
  },
  {
   "cell_type": "code",
   "execution_count": 1,
   "metadata": {
    "slideshow": {
     "slide_type": "slide"
    },
    "tags": [
     "remove_input"
    ]
   },
   "outputs": [
    {
     "data": {
      "text/html": [
       "<iframe src='https://www.geogebra.org/m/jmmdrnst' width='800' height='600'></iframe>\n"
      ],
      "text/plain": [
       "<IPython.core.display.HTML object>"
      ]
     },
     "metadata": {},
     "output_type": "display_data"
    }
   ],
   "source": [
    "%%HTML\n",
    "<iframe src='https://www.geogebra.org/m/jmmdrnst' width='800' height='600'></iframe>"
   ]
  },
  {
   "cell_type": "markdown",
   "metadata": {
    "slideshow": {
     "slide_type": "slide"
    }
   },
   "source": []
  }
 ],
 "metadata": {
  "celltoolbar": "Slideshow",
  "kernelspec": {
   "display_name": "Python 3",
   "language": "python",
   "name": "python3"
  },
  "language_info": {
   "codemirror_mode": {
    "name": "ipython",
    "version": 3
   },
   "file_extension": ".py",
   "mimetype": "text/x-python",
   "name": "python",
   "nbconvert_exporter": "python",
   "pygments_lexer": "ipython3",
   "version": "3.8.0"
  }
 },
 "nbformat": 4,
 "nbformat_minor": 2
}
