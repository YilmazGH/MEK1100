{
 "cells": [
  {
   "cell_type": "markdown",
   "metadata": {
    "slideshow": {
     "slide_type": "slide"
    }
   },
   "source": [
    "<img style='position: fixed; top: 0;' src='../figs/logo_seal_bm_a.png' width='800'>\n",
    "\n",
    "# <center>MEK1100 - Feltteori og Vektoranalyse</center>\n",
    "\n",
    "# <center>Våren 2020</center>\n",
    "\n",
    "## <center>Foreleser: Mikael Mortensen (mikaem@math.uio.no)</center>\n",
    "\n",
    "## <center>Gruppelærere: </center>\n"
   ]
  },
  {
   "cell_type": "markdown",
   "metadata": {
    "slideshow": {
     "slide_type": "slide"
    }
   },
   "source": [
    "<img style='position: fixed; top: 0;' src='../figs/logo_seal_bm_a.png' width='800'>\n",
    "\n",
    "<center>\n",
    "<h1> MEK1100 - praktisk informasjon </h1>\n",
    "\n",
    "<ul>\n",
    "  <li>8 åpne grupper</li>\n",
    "  <li>Finn selv en gruppe du vil være med i</li>\n",
    "</ul>\n",
    "    "
   ]
  },
  {
   "cell_type": "markdown",
   "metadata": {
    "slideshow": {
     "slide_type": "slide"
    }
   },
   "source": [
    "<center><h1>Det er mange med forskjellig bakgrunn som tar MEK1100</h1></center>\n",
    "\n",
    "<center>\n",
    "<div class='frame' style='position: relative; padding-bottom: 56.25%; padding-top: 35px; height: 0; overflow: hidden;'><iframe webkitallowfullscreen=\"\" mozallowfullscreen=\"\" allowfullscreen=\"\" sandbox=\"allow-forms allow-scripts allow-popups allow-same-origin allow-pointer-lock\" src=\"https://www.mentimeter.com/s/1b40bf3035817e10a1b8f9c41e1af201/fa16f5392d26\" height='500' width='800' style='position: absolute; top: 5%; left: 0; width: 100%; height: 100%;'></iframe></div>\n",
    "</center>"
   ]
  },
  {
   "cell_type": "markdown",
   "metadata": {
    "slideshow": {
     "slide_type": "slide"
    }
   },
   "source": [
    "# <center>Hva dreier MEK1100 seg om?</center>"
   ]
  },
  {
   "cell_type": "markdown",
   "metadata": {
    "cell_style": "split",
    "slideshow": {
     "slide_type": "fragment"
    }
   },
   "source": [
    "# <center>Mekanikk</center>\n",
    "\n",
    " * Læren om bevegelse og om krefter som kan forårsake bevegelse\n",
    " \n",
    " $m a = \\sum Krefter$"
   ]
  },
  {
   "cell_type": "markdown",
   "metadata": {
    "cell_style": "split",
    "slideshow": {
     "slide_type": "fragment"
    }
   },
   "source": [
    "# <center>Felter</center>\n",
    "\n",
    "  * Skalarfelt: Temperatur, trykk\n",
    "  * Vektorfelt: Vindastighet"
   ]
  },
  {
   "cell_type": "markdown",
   "metadata": {
    "slideshow": {
     "slide_type": "slide"
    }
   },
   "source": [
    "# Innhold"
   ]
  },
  {
   "cell_type": "markdown",
   "metadata": {
    "cell_style": "split",
    "slideshow": {
     "slide_type": "fragment"
    }
   },
   "source": [
    "# Matematiske teknikker\n",
    "\n",
    " * Skalar- og vektorfelt. \n",
    " * Visualisering av felt. \n",
    " * Partielle differensiallikninger.\n"
   ]
  },
  {
   "cell_type": "markdown",
   "metadata": {
    "cell_style": "split",
    "slideshow": {
     "slide_type": "fragment"
    }
   },
   "source": [
    "# Innhold\n",
    " * Matematikk: Feltteori.\n",
    " * Fysikk: Fluidmekanikk.\n",
    " * Modellering: Hvordan bruke feltteori for å beskrive fluider. Visualisering på datamaskin.\n",
    " * Numerisk beregning av felt.\n",
    " * Demonstrasjonsforsøk."
   ]
  },
  {
   "cell_type": "markdown",
   "metadata": {
    "slideshow": {
     "slide_type": "slide"
    }
   },
   "source": [
    "# Programmeringsverktøy\n",
    "\n",
    "<div class='row'>\n",
    "  <div class='column'>\n",
    "      <a href='https://geogebra.com'><img src='../figs/Geogebra-logo.png'></a>\n",
    "      <a href='https://se.mathworks.com/products/matlab.html'><img src='../figs/Matlab_Logo.png' width='80%'></a>\n",
    "  </div>\n",
    "  <div class='column'>\n",
    "      <a href='https://python.org'><img src='../figs/python-logo.png'></a>\n",
    "      <a href='https://jupyter.org'><img src='../figs/jupyter_logo.png'></a>\n",
    "  </div>\n",
    "</div>\n"
   ]
  },
  {
   "cell_type": "markdown",
   "metadata": {
    "slideshow": {
     "slide_type": "slide"
    }
   },
   "source": [
    "# Kursets hjemmeside\n",
    "\n",
    "<center>\n",
    "<div class='frame' style='position: relative; padding-bottom: 60%; padding-top: 35px; height: 0; overflow: hidden;'>\n",
    "    <iframe src='https://www.uio.no/studier/emner/matnat/math/MEK1100/v20/index.html' style='position: absolute; top: 5%; left: 0; width: 100%; height: 100%;'></iframe>\n",
    "</div>\n",
    "</center>"
   ]
  },
  {
   "cell_type": "markdown",
   "metadata": {
    "slideshow": {
     "slide_type": "slide"
    }
   },
   "source": [
    "# Krefter\n",
    "\n",
    "<center>\n",
    "<div class='frame' style='position: relative; padding-bottom: 70%; padding-top: 35px; height: 0; overflow: hidden;'><iframe webkitallowfullscreen=\"\" mozallowfullscreen=\"\" allowfullscreen=\"\" sandbox=\"allow-forms allow-scripts allow-popups allow-same-origin allow-pointer-lock\" src=\"https://www.mentimeter.com/s/87f39431175db24ab1341932f2b13f55/9fb5f02c570a\" height='500' width='800' style='position: absolute; top: 5%; left: 0; width: 100%; height: 100%;'></iframe></div>\n",
    "</center>"
   ]
  }
 ],
 "metadata": {
  "celltoolbar": "Slideshow",
  "kernelspec": {
   "display_name": "Python 3",
   "language": "python",
   "name": "python3"
  },
  "language_info": {
   "codemirror_mode": {
    "name": "ipython",
    "version": 3
   },
   "file_extension": ".py",
   "mimetype": "text/x-python",
   "name": "python",
   "nbconvert_exporter": "python",
   "pygments_lexer": "ipython3",
   "version": "3.8.0"
  }
 },
 "nbformat": 4,
 "nbformat_minor": 4
}
