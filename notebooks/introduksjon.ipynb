{
 "cells": [
  {
   "cell_type": "markdown",
   "metadata": {
    "slideshow": {
     "slide_type": "slide"
    }
   },
   "source": [
    "<img style='position: fixed; top: 0;' src='../figs/logo_seal_bm_a.png' width='600'>\n",
    "\n",
    "# <center>MEK1100 - Feltteori og Vektoranalyse</center>\n",
    "\n",
    "# <center>Våren 2020</center>\n",
    "\n",
    "<p></p>\n",
    "\n",
    "<center>Foreleser: Mikael Mortensen (mikaem@math.uio.no)</center>\n",
    "\n",
    "<center>Gruppelærere: Mange </center>\n"
   ]
  },
  {
   "cell_type": "markdown",
   "metadata": {
    "slideshow": {
     "slide_type": "slide"
    }
   },
   "source": [
    "<img style='position: fixed; top: 0;' src='../figs/logo_seal_bm_a.png' width='600'>\n",
    "\n",
    "<div style='position: fixed; top: 20%; left: 20%;'>\n",
    "<h1> MEK1100 - litt praktisk informasjon </h1>\n",
    "</div>\n",
    "\n",
    "<center>\n",
    "<ul>\n",
    "  <li>Vi kommer til å være her, i KJM Aud 1</li>\n",
    "  <li>8 åpne grupper</li>\n",
    "  <li>Finn selv en gruppe du vil være med i, men prøv å fordele utover</li>\n",
    "  <li>Ukesoppgaver legges ut på hjemmesiden</li>\n",
    "  <li>Tillitsstudenter</li>\n",
    "  <li>To obligatoriske oppgaver + midtveiseksamen</li>\n",
    "</ul>\n",
    "</center>"
   ]
  },
  {
   "cell_type": "markdown",
   "metadata": {
    "slideshow": {
     "slide_type": "slide"
    }
   },
   "source": [
    "# Kursets hjemmeside\n",
    "\n",
    "<center>\n",
    "<div class='frame' style='position: relative; padding-bottom: 60%; padding-top: 35px; height: 0; overflow: hidden;'>\n",
    "    <iframe src='https://www.uio.no/studier/emner/matnat/math/MEK1100/v20/index.html' style='position: absolute; top: 5%; left: 0; width: 100%; height: 100%;'></iframe>\n",
    "</div>\n",
    "</center>"
   ]
  },
  {
   "cell_type": "markdown",
   "metadata": {
    "slideshow": {
     "slide_type": "slide"
    }
   },
   "source": [
    "<h1>Mange med forskjellig bakgrunn tar MEK1100</h1>\n",
    "\n",
    "<center>\n",
    "<div class='frame' style='position: relative; padding-bottom: 56.25%; padding-top: 35px; height: 0; overflow: hidden;'><iframe webkitallowfullscreen=\"\" mozallowfullscreen=\"\" allowfullscreen=\"\" sandbox=\"allow-forms allow-scripts allow-popups allow-same-origin allow-pointer-lock\" src=\"https://www.mentimeter.com/s/1b40bf3035817e10a1b8f9c41e1af201/fa16f5392d26\" height='500' width='800' style='position: absolute; top: 5%; left: 0; width: 100%; height: 100%;'></iframe></div>\n",
    "</center>"
   ]
  },
  {
   "cell_type": "markdown",
   "metadata": {
    "slideshow": {
     "slide_type": "slide"
    }
   },
   "source": [
    "<center><h1>Mekanikk brukes om mye forskjellig</h1></center>\n",
    "<center>\n",
    "<div class='frame' style='position: relative; padding-bottom: 56.25%; padding-top: 35px; height: 0; overflow: hidden;'><iframe webkitallowfullscreen=\"\" mozallowfullscreen=\"\" allowfullscreen=\"\" sandbox=\"allow-forms allow-scripts allow-popups allow-same-origin allow-pointer-lock\" src=\"https://www.mentimeter.com/s/594e1c38face8bbd2583b72cecbc0237/3f88b350126b\" height='500' width='800' style='position: absolute; top: 5%; left: 0; width: 100%; height: 100%;'></iframe></div>\n",
    "</center>\n"
   ]
  },
  {
   "cell_type": "markdown",
   "metadata": {
    "slideshow": {
     "slide_type": "slide"
    }
   },
   "source": [
    "<h1><font color='red'>MEK</font>1100 – <font color='blue'>Felt</font>teori og vektoranalyse</h1>\n",
    "\n",
    "<h2><font color='red'>Mekanikk</font> i MEK1100</h2>\n",
    "\n",
    "<ul>\n",
    "    <li> Læren om bevegelse og om krefter som kan forårsake bevegelse </li>\n",
    "    <li> Klassisk Newtonsk fysikk $m a = \\sum Krefter$ </li>\n",
    "</ul>\n",
    "\n",
    "<h2><font color='blue'>Felter</font> i MEK1100</h2>\n",
    "<p></p>\n",
    "<div class='row'>\n",
    "  <div class='column' align='left'>\n",
    "  <ul>\n",
    "    <li>Et felt er en størrelse entydig bestemt av posisjon og tid</li>\n",
    "    <li><b>Skalarfelt:</b> \n",
    "        <ul>\n",
    "            <li>Temperatur</li> \n",
    "            <li>Trykk</li>\n",
    "            <li>Nedbørsmengde</li> \n",
    "        </ul>\n",
    "    </li>\n",
    "    <li><font style='opacity:0.4'>Vektorfelt: </font>\n",
    "        <ul>\n",
    "            <li><font style='opacity:0.4'>Vindastighet</font></li>\n",
    "            <li><font style='opacity:0.4'>Magnetfelt</font></li>\n",
    "        </ul>\n",
    "     </li>\n",
    "  </ul>\n",
    "  </div>\n",
    "  <div class='column' align='right'>\n",
    "    <img src='../figs/hurrycanefloyd.png' width='350'>    \n",
    "  </div>\n",
    "</div>"
   ]
  },
  {
   "cell_type": "markdown",
   "metadata": {
    "slideshow": {
     "slide_type": "subslide"
    }
   },
   "source": [
    "<h1><font color='red'>MEK</font>1100 – <font color='blue'>Felt</font>teori og vektoranalyse</h1>\n",
    "\n",
    "<h2><font color='red'>Mekanikk</font> i MEK1100</h2>\n",
    "\n",
    "<ul>\n",
    "    <li> Læren om bevegelse og om krefter som kan forårsake bevegelse </li>\n",
    "    <li> Klassisk Newtonsk fysikk $m a = \\sum Krefter$ </li>\n",
    "</ul>\n",
    "\n",
    "<h2><font color='blue'>Felter</font> i MEK1100</h2>\n",
    "<p></p>\n",
    "<div class='row'>\n",
    "  <div class='column' align='left'>\n",
    "  <ul>\n",
    "    <li>Et felt er en størrelse entydig bestemt av posisjon og tid</li>\n",
    "    <li><font style='opacity:0.4'>Skalarfelt:</font>\n",
    "        <ul>\n",
    "            <li><font style='opacity:0.4'>Temperatur</font></li> \n",
    "            <li><font style='opacity:0.4'>Trykk</font></li>\n",
    "            <li><font style='opacity:0.4'>Nedbørsmengde</font></li> \n",
    "        </ul>\n",
    "    </li>\n",
    "    <li><b>Vektorfelt: </b>\n",
    "        <ul>\n",
    "            <li>Vindastighet</li>\n",
    "            <li>Magnetfelt</li>\n",
    "        </ul>\n",
    "     </li>\n",
    "  </ul>\n",
    "  </div>\n",
    "  <div class='column' align='right'>\n",
    "    <img src='../figs/hurrycanefloyd.png' width='350'>    \n",
    "  </div>\n",
    "</div>"
   ]
  },
  {
   "cell_type": "markdown",
   "metadata": {
    "slideshow": {
     "slide_type": "slide"
    }
   },
   "source": [
    "# I MEK1100 skal vi jobbe med\n",
    "\n",
    " * **Modellering**: Hvordan bruke feltteori for å beskrive fluider.\n",
    "     * Visulisering av felter (programmeringsverktøy)\n",
    "     * Data-analyse - I oblig 2 skal vi analysere data fra fluidmekanikk labben\n",
    "     * Demonstrasjonsforsøk\n",
    "     * Numerisk beregning av felt\n",
    "     "
   ]
  },
  {
   "cell_type": "markdown",
   "metadata": {
    "slideshow": {
     "slide_type": "fragment"
    }
   },
   "source": [
    " * **Matematikk**: En praktisk anvendelse av det du lærer om i MAT1110\n",
    "     * Partielle derivert og differensiallikninger\n",
    "     * Linje-, flate- og volumintegraler\n",
    "     * Gradienter av felter $\\nabla \\beta(x,y,z)$\n",
    "     * Divergens av felter $\\nabla \\cdot \\mathbf{u}(x, y, z)$\n",
    "     * Kryss-produkter $\\mathbf{a} \\times \\mathbf{b}$\n",
    "     * Virvling (curl) $\\nabla \\times \\mathbf{u}$"
   ]
  },
  {
   "cell_type": "markdown",
   "metadata": {
    "slideshow": {
     "slide_type": "fragment"
    }
   },
   "source": [
    "<center><b>Fundamentale grunnstener for likningene som beskriver den synlige delen av naturen rundt oss (og mye mer)</b></center>"
   ]
  },
  {
   "cell_type": "markdown",
   "metadata": {
    "slideshow": {
     "slide_type": "slide"
    }
   },
   "source": [
    "<div style='position: fixed; top: 0%; left: 31%;'>\n",
    "<h1>For eksempel turbulens</h1>\n",
    "</div>\n",
    "\n",
    "<center><img src=\"https://cdn.jsdelivr.net/gh/spectralDNS/spectralutilities@master/movies/isotropic300_12.gif\" width=\"600\" height=\"400\" alt=\"Isotropic turbulence\"/></center>"
   ]
  },
  {
   "cell_type": "markdown",
   "metadata": {
    "slideshow": {
     "slide_type": "subslide"
    }
   },
   "source": [
    "<center><img src=\"https://cdn.jsdelivr.net/gh/spectralDNS/spectralutilities@master/movies/isotropic300_12.gif\" width=\"450\" height=\"300\" alt=\"Isotropic turbulence\"/></center>\n",
    "\n",
    "<center><h1>Navier Stokes</h1></center>\n",
    "<p></p>\n",
    "<center>\n",
    "\n",
    "\\begin{align*}\n",
    "  \\frac{\\partial \\vec{u}}{\\partial t} + \\nabla \\cdot \\vec{u} \\vec{u} &= -\\frac{1}{\\rho}\\nabla p + \\nu \\nabla^2 \\vec{u} \\\\\n",
    "  \\nabla \\cdot \\vec{u} &= 0\n",
    "\\end{align*}\n",
    "\n",
    "</center>"
   ]
  },
  {
   "cell_type": "markdown",
   "metadata": {
    "slideshow": {
     "slide_type": "subslide"
    }
   },
   "source": [
    "<center><img src=\"https://cdn.jsdelivr.net/gh/spectralDNS/spectralutilities@master/movies/isotropic300_12.gif\" width=\"300\" height=\"200\" alt=\"Isotropic turbulence\"/></center>\n",
    "\n",
    "<center><h1>Navier Stokes</h1></center>\n",
    "<p></p>\n",
    "<center>\n",
    "\n",
    "\\begin{align*}\n",
    "  \\color{green}{\\frac{\\partial \\vec{u}}{\\partial t}} + \\color{magenta}{\\nabla \\cdot \\vec{u} \\vec{u}} &= -\\frac{1}{\\rho}\\color{red}{\\nabla p} + \\color{gray}{\\nu \\nabla^2 \\vec{u}} \\\\\n",
    "  \\color{blue}{\\nabla \\cdot \\vec{u}} &= 0\n",
    "\\end{align*}\n",
    "\n",
    "</center>\n",
    "\n",
    "<p></p>\n",
    "\n",
    "<div class='row'>\n",
    "    <div class='column' align='center'>\n",
    "      <ul>\n",
    "          <li>$\\color{green}{\\frac{\\partial \\vec{u}}{\\partial t}\\text{ - Partiell tidsderivert}}$</li>\n",
    "          <li>$\\color{blue}{\\nabla \\cdot \\vec{u}} \\text{ - Divergens av vektor}$</li>\n",
    "          <li>$\\color{red}{\\nabla p \\text{ - Gradient av skalar}}$</li>\n",
    "      </ul>\n",
    "     </div>\n",
    "    <div class='column' align='center'>\n",
    "        <ul>\n",
    "            <li>$\\color{magenta}{\\nabla \\cdot \\vec{u} \\vec{u}}\\text{ - Divergens av ytre produkt}$ <br /> $\\color{magenta}{\\text{mellom to vektorer}}$</li>\n",
    "            <li>$\\color{gray}{\\nu \\nabla^2 \\vec{u}\\left(= \\nu\\nabla \\cdot \\nabla \\vec{u} \\right)\\text{ - Divergens av}}$ <br /> $\\color{gray}{\\text{gradient av vektor}}$</li>\n",
    "        </ul>\n",
    "    </div>\n",
    "</div>"
   ]
  },
  {
   "cell_type": "markdown",
   "metadata": {
    "slideshow": {
     "slide_type": "subslide"
    }
   },
   "source": [
    "<div style='position: fixed; top: 0%; left: 20%;'>\n",
    "<h1>Eller Rayleigh-Bénard konveksjon</h1>\n",
    "</div>\n",
    "\n",
    "<center><img src=\"https://cdn.jsdelivr.net/gh/spectralDNS/spectralutilities@master/movies/RB_200k_small.png\" width=\"600\" height=\"400\" alt=\"Rayleigh-Bénard flow\"/></center>"
   ]
  },
  {
   "cell_type": "markdown",
   "metadata": {
    "slideshow": {
     "slide_type": "subslide"
    }
   },
   "source": [
    "<center><img src=\"https://cdn.jsdelivr.net/gh/spectralDNS/spectralutilities@master/movies/RB_200k_small.png\" width=\"450\" height=\"300\" alt=\"Isotropic turbulence\"/></center>\n",
    "\n",
    "<center><h1>Navier Stokes + temperatur</h1></center>\n",
    "<p></p>\n",
    "<center>\n",
    "\n",
    "\\begin{align*}\n",
    "  \\frac{\\partial \\vec{u}}{\\partial t} + \\nabla \\cdot \\vec{u}\\vec{u} &= -\\frac{1}{\\rho}\\nabla p + \\nu \\nabla^2 \\vec{u} + T \\mathbf{k} \\\\\n",
    "  \\nabla \\cdot \\vec{u} &= 0 \\\\\n",
    "  \\frac{\\partial T}{\\partial t} + \\vec{u}\\cdot \\nabla T &= \\kappa \\nabla^2 T\n",
    "\\end{align*}\n",
    "\n",
    "</center>"
   ]
  },
  {
   "cell_type": "markdown",
   "metadata": {
    "slideshow": {
     "slide_type": "slide"
    }
   },
   "source": [
    "# Programmeringsverktøy\n",
    "<p></p>\n",
    "<div class='row'>\n",
    "  <div class='column' align='center'>\n",
    "      <a href='https://geogebra.com'><img src='../figs/Geogebra-logo.png'></a>\n",
    "      <a href='https://se.mathworks.com/products/matlab.html'><img src='../figs/Matlab_Logo.png' width='80%'></a>\n",
    "  </div>\n",
    "  <div class='column' align='center'>\n",
    "      <a href='https://python.org'><img src='../figs/Python_logo_wordmark.png' width='80%'></a>\n",
    "      <a href='https://jupyter.org'><img src='../figs/jupyter_logo.png'></a>\n",
    "  </div>\n",
    "</div>\n"
   ]
  },
  {
   "cell_type": "markdown",
   "metadata": {
    "slideshow": {
     "slide_type": "subslide"
    }
   },
   "source": [
    "# Programmeringsverktøy\n",
    "<p></p>\n",
    "<center>\n",
    "<div class='frame' style='position: relative; padding-bottom: 56.25%; padding-top: 35px; height: 0; overflow: hidden;'><iframe webkitallowfullscreen=\"\" mozallowfullscreen=\"\" allowfullscreen=\"\" sandbox=\"allow-forms allow-scripts allow-popups allow-same-origin allow-pointer-lock\" src=\"https://www.mentimeter.com/s/ac98a2aab2aee39d4367c4d01b79d691/3e3955748569\" height='500' width='800' style='position: absolute; top: 5%; left: 0; width: 100%; height: 100%;'></iframe></div>\n",
    "</center>\n"
   ]
  },
  {
   "cell_type": "markdown",
   "metadata": {
    "slideshow": {
     "slide_type": "subslide"
    }
   },
   "source": [
    "# Programmeringsverktøy2\n",
    "<p></p>\n",
    "\n",
    "<div class=\"embed-responsive embed-responsive-16by9\">\n",
    "  <iframe class=\"embed-responsive-item\" src=\"https://www.mentimeter.com/s/ac98a2aab2aee39d4367c4d01b79d691/3e3955748569\" allowfullscreen></iframe>\n",
    "</div>\n"
   ]
  },
  {
   "cell_type": "markdown",
   "metadata": {
    "slideshow": {
     "slide_type": "slide"
    }
   },
   "source": [
    "<div style='position: relative; padding-bottom: 56.25%; padding-top: 35px; height: 0; overflow: hidden;'><iframe sandbox='allow-scripts allow-same-origin allow-presentation' allowfullscreen='true' allowtransparency='true' frameborder='0' height='315' src='https://www.mentimeter.com/s/4d5eda11ba0617ce78c841db7e340b9c/9d51e96be118' style='position: absolute; top: 0; left: 0; width: 100%; height: 100%;' width='420'></iframe></div>"
   ]
  },
  {
   "cell_type": "markdown",
   "metadata": {},
   "source": []
  }
 ],
 "metadata": {
  "celltoolbar": "Slideshow",
  "kernelspec": {
   "display_name": "Python 3",
   "language": "python",
   "name": "python3"
  },
  "language_info": {
   "codemirror_mode": {
    "name": "ipython",
    "version": 3
   },
   "file_extension": ".py",
   "mimetype": "text/x-python",
   "name": "python",
   "nbconvert_exporter": "python",
   "pygments_lexer": "ipython3",
   "version": "3.8.0"
  },
  "latex_envs": {
   "LaTeX_envs_menu_present": true,
   "autoclose": false,
   "autocomplete": true,
   "bibliofile": "biblio.bib",
   "cite_by": "apalike",
   "current_citInitial": 1,
   "eqLabelWithNumbers": true,
   "eqNumInitial": 1,
   "hotkeys": {
    "equation": "Ctrl-E",
    "itemize": "Ctrl-I"
   },
   "labels_anchors": false,
   "latex_user_defs": true,
   "report_style_numbering": false,
   "user_envs_cfg": true
  }
 },
 "nbformat": 4,
 "nbformat_minor": 4
}
