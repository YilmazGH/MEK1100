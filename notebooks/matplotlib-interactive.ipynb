{
 "cells": [
  {
   "cell_type": "markdown",
   "metadata": {},
   "source": [
    "Basic Interactor Demo\n",
    "---------------------\n",
    "\n",
    "This demo shows off an interactive visualization using [Matplotlib](https://matplotlib.org) for plotting, and Ipython interactors for widgets.\n",
    "\n",
    "The dropdown offers a choice of trig functions to plot, and the sliders control the frequency, amplitude, and phase. \n",
    "\n",
    "To run, click on, `Cell->Run All` in the top menu, then scroll to the bottom and move the sliders. "
   ]
  },
  {
   "cell_type": "code",
   "execution_count": 1,
   "metadata": {},
   "outputs": [],
   "source": [
    "from ipywidgets import interact\n",
    "import matplotlib.pyplot as plt\n",
    "import numpy as np"
   ]
  },
  {
   "cell_type": "code",
   "execution_count": 2,
   "metadata": {},
   "outputs": [],
   "source": [
    "x = np.linspace(0, 2*np.pi, 2000)"
   ]
  },
  {
   "cell_type": "code",
   "execution_count": 3,
   "metadata": {},
   "outputs": [
    {
     "data": {
      "application/vnd.jupyter.widget-view+json": {
       "model_id": "1962b94e50194f61886e92cfabc03bac",
       "version_major": 2,
       "version_minor": 0
      },
      "text/plain": [
       "interactive(children=(Dropdown(description='f', options=('sin', 'cos'), value='sin'), IntSlider(value=1, descr…"
      ]
     },
     "metadata": {},
     "output_type": "display_data"
    },
    {
     "data": {
      "text/plain": [
       "<function __main__.update(f, w=1, A=1, phi=0)>"
      ]
     },
     "execution_count": 3,
     "metadata": {},
     "output_type": "execute_result"
    }
   ],
   "source": [
    "def update(f, w=1, A=1, phi=0):\n",
    "    if   f == \"sin\": func = np.sin\n",
    "    elif f == \"cos\": func = np.cos\n",
    "    y = A * func(w * x + phi)\n",
    "    plt.ylim(-5, 5)\n",
    "    plt.plot(x, y)\n",
    "    plt.show()\n",
    "\n",
    "interact(update, f=['sin', 'cos'], w=(0, 50), A=(1, 10), phi=(0, 20, 0.1))"
   ]
  },
  {
   "cell_type": "code",
   "execution_count": null,
   "metadata": {},
   "outputs": [],
   "source": []
  }
 ],
 "metadata": {
  "kernelspec": {
   "display_name": "Python 3",
   "language": "python",
   "name": "python3"
  },
  "language_info": {
   "codemirror_mode": {
    "name": "ipython",
    "version": 3
   },
   "file_extension": ".py",
   "mimetype": "text/x-python",
   "name": "python",
   "nbconvert_exporter": "python",
   "pygments_lexer": "ipython3",
   "version": "3.8.0"
  }
 },
 "nbformat": 4,
 "nbformat_minor": 1
}
