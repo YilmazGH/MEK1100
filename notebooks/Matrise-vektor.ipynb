{
 "cells": [
  {
   "cell_type": "markdown",
   "metadata": {},
   "source": [
    "# Matrise-vektor operasjoner\n",
    "\n",
    "Gitt en matrise $A \\in \\mathbb{R}^{2, 2}$ og en kolonnevektor $b \\in \\mathbb{R}^2$\n",
    "\n",
    "$\n",
    "A = \\begin{pmatrix}\n",
    " 1 & 2 \\\\\n",
    " 3 & 4\n",
    "\\end{pmatrix}\n",
    "$\n",
    "\n",
    "$\n",
    "b = \\begin{pmatrix}\n",
    "  5 \\\\\n",
    "  6\n",
    "\\end{pmatrix}\n",
    "$\n",
    "\n",
    "Matrise-vektor produktet er\n",
    "\n",
    "$\n",
    "x = \\begin{pmatrix}\n",
    " 1 & 2 \\\\\n",
    " 3 & 4\n",
    "\\end{pmatrix}\n",
    "\\begin{pmatrix}\n",
    " 5 \\\\\n",
    " 6\n",
    "\\end{pmatrix}=\n",
    "\\begin{pmatrix}\n",
    "1 \\cdot 5 + 2 \\cdot 6 \\\\\n",
    "3 \\cdot 5 + 4 \\cdot 6 \n",
    "\\end{pmatrix}\n",
    "=\\begin{pmatrix}\n",
    "17 \\\\\n",
    "39 \n",
    "\\end{pmatrix}\n",
    "$\n"
   ]
  },
  {
   "cell_type": "code",
   "execution_count": 1,
   "metadata": {},
   "outputs": [
    {
     "name": "stdout",
     "output_type": "stream",
     "text": [
      "[[17]\n",
      " [39]]\n"
     ]
    }
   ],
   "source": [
    "import numpy as np\n",
    "\n",
    "A = np.array([[1, 2], [3, 4]])\n",
    "b = np.array([[5], [6]])\n",
    "x = np.dot(A, b)\n",
    "print(x)"
   ]
  },
  {
   "cell_type": "markdown",
   "metadata": {},
   "source": [
    "Merk at `x` er en matrise av størrelse `2 x 1`, altså en kolonnevektor."
   ]
  },
  {
   "cell_type": "code",
   "execution_count": 2,
   "metadata": {},
   "outputs": [
    {
     "name": "stdout",
     "output_type": "stream",
     "text": [
      "(2, 1)\n"
     ]
    }
   ],
   "source": [
    "print(b.shape)"
   ]
  },
  {
   "cell_type": "markdown",
   "metadata": {},
   "source": [
    "Når man regner med vektorer i Numpy trenger man ikke bruke den ekstra dimensjonen. Altså, man trenger ikke bruke en `kolonnevektor` med først akse av størrelse 1. Det går fint med en vanlig vektor som vist under"
   ]
  },
  {
   "cell_type": "code",
   "execution_count": 3,
   "metadata": {},
   "outputs": [
    {
     "name": "stdout",
     "output_type": "stream",
     "text": [
      "[17 39]\n",
      "(2,) (2,)\n"
     ]
    }
   ],
   "source": [
    "b = np.array([5, 6])\n",
    "x = np.dot(A, b)\n",
    "print(x)\n",
    "print(x.shape, b.shape)"
   ]
  },
  {
   "cell_type": "markdown",
   "metadata": {},
   "source": [
    "Numpy sin `dot` funksjon behandler her `b` som en kolonnevektor fordi det er det eneste som gir mening. Man kan ikke ta matriseproduktet av en matrise av størrelse `2 x 2` med en vektor av størrelse `1 x 2`. Så Numpy antar det eneste fornuftige, at `b` er en kolonnevektor.  "
   ]
  },
  {
   "cell_type": "markdown",
   "metadata": {},
   "source": [
    "## Ytre produkt\n",
    "\n",
    "Ytre produktet av to vektorer $\\vec{a}=(1, 2, 3)$ og $\\vec{b}=(4, 5, 6)$ er gitt ved \n",
    "\n",
    "$\n",
    "P = \\vec{a} \\vec{b}\n",
    "$\n",
    "\n",
    "Indeksnotasjon\n",
    "\n",
    "$\n",
    "P_{ij} = a_ib_j\n",
    "$\n",
    "\n",
    "$\n",
    "P = \\begin{pmatrix}\n",
    "1 \\\\\n",
    "2 \\\\\n",
    "3\n",
    "\\end{pmatrix}\n",
    "\\begin{pmatrix}\n",
    "4 & 5 & 6 \n",
    "\\end{pmatrix}=\n",
    "\\begin{pmatrix}\n",
    "1 \\cdot 4 & 1 \\cdot 5 & 1 \\cdot 6 \\\\\n",
    "2 \\cdot 4 & 2 \\cdot 5 & 2 \\cdot 6 \\\\\n",
    "3 \\cdot 4 & 3 \\cdot 5 & 3 \\cdot 6 \\\\\n",
    "\\end{pmatrix}=\n",
    "\\begin{pmatrix}\n",
    "4 & 5 & 6 \\\\\n",
    "8 & 10 & 12 \\\\\n",
    "12 & 15 & 18 \\\\\n",
    "\\end{pmatrix}\n",
    "$\n"
   ]
  },
  {
   "cell_type": "code",
   "execution_count": 4,
   "metadata": {},
   "outputs": [
    {
     "name": "stdout",
     "output_type": "stream",
     "text": [
      "[[ 4  5  6]\n",
      " [ 8 10 12]\n",
      " [12 15 18]]\n",
      "(3, 3)\n"
     ]
    }
   ],
   "source": [
    "a = np.array([1, 2, 3])\n",
    "b = np.array([4, 5, 6])\n",
    "P = np.outer(a, b)\n",
    "print(P)\n",
    "print(P.shape)"
   ]
  },
  {
   "cell_type": "markdown",
   "metadata": {},
   "source": [
    "Vi kan få til det samme med egendesignet broadcasting"
   ]
  },
  {
   "cell_type": "code",
   "execution_count": 5,
   "metadata": {},
   "outputs": [
    {
     "name": "stdout",
     "output_type": "stream",
     "text": [
      "[[ 4  5  6]\n",
      " [ 8 10 12]\n",
      " [12 15 18]]\n"
     ]
    }
   ],
   "source": [
    "print(a[:, None]*b[None, :])"
   ]
  },
  {
   "cell_type": "code",
   "execution_count": 6,
   "metadata": {},
   "outputs": [
    {
     "name": "stdout",
     "output_type": "stream",
     "text": [
      "(3, 1) (1, 3)\n"
     ]
    }
   ],
   "source": [
    "print(a[:, None].shape, b[None, :].shape)"
   ]
  },
  {
   "cell_type": "markdown",
   "metadata": {},
   "source": [
    "Altså, `a[:, None]` tar vektor `a` og lager en matrise av størrelse `3 x 1`, mens `b[None, :]` lager en matrise av størrelse `1 x 3`. `a[:, None]*b[None, :]` blir da et vanlig matrise - matrise produkt med resultat av størrelse `3 x 3`. \n",
    "Les mer om Numpy broadcasting [her](https://docs.scipy.org/doc/numpy/user/theory.broadcasting.html#array-broadcasting-in-numpy).\n",
    "Merk at uten broadcasting får vi som vanlig elementvis multiplikasjon"
   ]
  },
  {
   "cell_type": "code",
   "execution_count": 7,
   "metadata": {},
   "outputs": [
    {
     "name": "stdout",
     "output_type": "stream",
     "text": [
      "[ 4 10 18]\n"
     ]
    }
   ],
   "source": [
    "print(a*b)"
   ]
  }
 ],
 "metadata": {
  "kernelspec": {
   "display_name": "Python 3",
   "language": "python",
   "name": "python3"
  },
  "language_info": {
   "codemirror_mode": {
    "name": "ipython",
    "version": 3
   },
   "file_extension": ".py",
   "mimetype": "text/x-python",
   "name": "python",
   "nbconvert_exporter": "python",
   "pygments_lexer": "ipython3",
   "version": "3.8.0"
  }
 },
 "nbformat": 4,
 "nbformat_minor": 2
}
