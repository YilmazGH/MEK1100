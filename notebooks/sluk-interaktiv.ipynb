{
 "cells": [
  {
   "cell_type": "markdown",
   "metadata": {},
   "source": [
    "Sluk\n",
    "-----\n",
    "\n",
    "Hvis vi antar at hastigheten i et sluk kan beskrives som\n",
    "\n",
    "$$\n",
    "\\vec{v} = \\alpha r^n \\mathbf{i}_{\\theta},\n",
    "$$\n",
    "\n",
    "så kan vi løse Eulers likning for å finne overflatehevningen\n",
    "\n",
    "$$\n",
    "\\begin{equation}\n",
    "\\eta(r) = \\begin{cases}\n",
    "\\frac{\\alpha^2 r^{2n}}{2 n g} + \\gamma \\\\\n",
    "\\frac{\\alpha^2}{g}\\ln{\\frac{r}{r_0}}\n",
    "\\end{cases}\n",
    "\\end{equation}\n",
    "$$\n",
    "\n",
    "Her er $\\alpha, \\gamma, g$ og $r_0$ konstanter.\n",
    "\n",
    "Merk at $n=1$ tilsvarer rotasjon som stivt legeme."
   ]
  },
  {
   "cell_type": "code",
   "execution_count": 1,
   "metadata": {},
   "outputs": [],
   "source": [
    "from ipywidgets import interact\n",
    "import matplotlib.pyplot as plt\n",
    "import numpy as np"
   ]
  },
  {
   "cell_type": "markdown",
   "metadata": {},
   "source": [
    "Setter konstanter og plotter interaktivt"
   ]
  },
  {
   "cell_type": "code",
   "execution_count": 2,
   "metadata": {},
   "outputs": [],
   "source": [
    "g = 9.81\n",
    "r0 = 1\n",
    "r = np.linspace(0, 1, 200)"
   ]
  },
  {
   "cell_type": "code",
   "execution_count": 3,
   "metadata": {},
   "outputs": [
    {
     "data": {
      "application/vnd.jupyter.widget-view+json": {
       "model_id": "faf56a2cc3074d16bea8c33903cb3cb9",
       "version_major": 2,
       "version_minor": 0
      },
      "text/plain": [
       "interactive(children=(FloatSlider(value=1.0, description='n', max=5.0, min=-5.0, step=0.25), FloatSlider(value…"
      ]
     },
     "metadata": {},
     "output_type": "display_data"
    },
    {
     "data": {
      "text/plain": [
       "<function __main__.update(n=1, alpha=10, gamma=1)>"
      ]
     },
     "execution_count": 3,
     "metadata": {},
     "output_type": "execute_result"
    }
   ],
   "source": [
    "def update(n=1, alpha=10, gamma=1):\n",
    "    with np.errstate(divide='ignore'):\n",
    "        if n == 0:\n",
    "            y = alpha**2/g*np.log(r/r0)\n",
    "        else:\n",
    "            y = alpha**2*r**(2*n)/2/n/g + gamma\n",
    "    plt.ylim(-10, 10)\n",
    "    plt.plot(r, y, 'b', -r, y, 'r')\n",
    "    plt.show()\n",
    "\n",
    "interact(update, n=(-5, 5, 0.25), alpha=(0, 10, 0.5), gamma=(0, 10, 0.5))"
   ]
  },
  {
   "cell_type": "code",
   "execution_count": null,
   "metadata": {},
   "outputs": [],
   "source": []
  }
 ],
 "metadata": {
  "kernelspec": {
   "display_name": "Python 3",
   "language": "python",
   "name": "python3"
  },
  "language_info": {
   "codemirror_mode": {
    "name": "ipython",
    "version": 3
   },
   "file_extension": ".py",
   "mimetype": "text/x-python",
   "name": "python",
   "nbconvert_exporter": "python",
   "pygments_lexer": "ipython3",
   "version": "3.7.4"
  }
 },
 "nbformat": 4,
 "nbformat_minor": 1
}
