{
 "cells": [
  {
   "cell_type": "markdown",
   "metadata": {},
   "source": [
    "# Gjevik og Wang Fagerland - Kapittel 3 og 5 \n",
    "\n",
    "En interaktiv oversettelse\n",
    "\n",
    "## Bruk av Python\n",
    "\n",
    "### Innledning\n",
    "\n",
    "I det følgende har vi oversatt kapittel 3 i boka [Gjevik og Fagerland](https://bibsys-k.alma.exlibrisgroup.com/leganto/readinglist/citation/9752674050002204?institute=47BIBSYS_UBO&auth=SAML) fra Matlab\n",
    "til Python.  Mens bokas kapittel 3 er skrevet uten å anta at man kan noe om\n",
    "Matlab fra før, vet vi at dagens typiske student i MEK1100 har forkunnskaper i\n",
    "Python som går langt forbi den introduksjonen som gis her.  Vi har likevel\n",
    "prøvd å oversette kapittel 3 i boka forholdsvis *ordrett*.\n",
    "\n",
    "For grunnleggende introduksjon til Python anbefales læreboka i [IN1900](https://www.uio.no/studier/emner/matnat/ifi/IN1900/h19/ressurser/pensum.html) \n",
    "samt [Python-versjonen](https://www.uio.no/studier/emner/matnat/math/MAT1110/v19/appendixpython.pdf) av Matlab-appendikset i læreboka i [MAT1110](https://bibsys-k.alma.exlibrisgroup.com/leganto/readinglist/citation/9848288890002204?institute=47BIBSYS_UBO&auth=SAML).  Det er også en elektronisk versjon av\n",
    "[Matlab-appendikset](https://www.uio.no/studier/emner/matnat/math/MAT1110/v16/fvlabokkort.pdf) i læreboka i MAT1110.\n",
    "\n",
    "Vi skal basere oss på [Matplotlib](https://matplotlib.org/) for å generere\n",
    "grafikk.\n",
    "\n",
    "For en sammenlikning av visualisering med Matplotlib, Mayavi og Matlab anbefales igjen [Python appendikset til MAT1110](https://www.uio.no/studier/emner/matnat/math/MAT1110/v19/appendixpython.pdf).\n"
   ]
  },
  {
   "cell_type": "markdown",
   "metadata": {},
   "source": [
    "## Litt grunnleggende Python\n",
    "\n",
    "### Oppstart, grensesnitt, kommentarer\n",
    "\n",
    "På Linux kan du starte Python ved å skrive *python* eller *ipython* i et terminalvindu. Jupyter starter man for eksempel med *jupyter notebook*. Det er andre måter å starte Python som vi ikke diskuterer her.\n",
    "For å sjekke hvilken versjon av Python man kjører kan man ganske enkelt gjøre som under"
   ]
  },
  {
   "cell_type": "code",
   "execution_count": 1,
   "metadata": {},
   "outputs": [
    {
     "name": "stdout",
     "output_type": "stream",
     "text": [
      "3.8.0 | packaged by conda-forge | (default, Nov 22 2019, 19:11:19) \n",
      "[Clang 9.0.0 (tags/RELEASE_900/final)]\n"
     ]
    }
   ],
   "source": [
    "import sys\n",
    "print(sys.version)"
   ]
  },
  {
   "cell_type": "markdown",
   "metadata": {},
   "source": [
    "Boksen over er en interaktiv IPython kode celle. I denne kan man skrive inn Python kode og så kjører man denne ved å trykke på boksen med Run over. Et jupyter-dokument inneholder typisk mange slike bokser, og boksene kan være koblet sammen. Det vil si at kode man beregner i én boks vil kunne regnes som kjent når man kommer lenger ned i dokumentet. Ta et enkelt eksempel"
   ]
  },
  {
   "cell_type": "code",
   "execution_count": 2,
   "metadata": {},
   "outputs": [],
   "source": [
    "a = 2\n",
    "b = 3"
   ]
  },
  {
   "cell_type": "markdown",
   "metadata": {},
   "source": [
    "Skriv litt tekst i mellom her og sjekk så at `a` og `b` lever i boksen under"
   ]
  },
  {
   "cell_type": "code",
   "execution_count": 3,
   "metadata": {},
   "outputs": [
    {
     "name": "stdout",
     "output_type": "stream",
     "text": [
      "5\n"
     ]
    }
   ],
   "source": [
    "print(a+b)"
   ]
  },
  {
   "cell_type": "markdown",
   "metadata": {},
   "source": [
    "Stemmer!\n",
    "\n",
    "Dette med mange forskjellig bokser gjør Jupyter filer litt forskjellig fra vanlige Python programmer.  Faktisk så er Jupyter heller ikke strengt tatt bundet opp mot Python, men virker like bra med andre programmer, som for eksempel MATLAB. Her kommer vi bare til å bruke Python om ikke annet er sagt.\n",
    "\n",
    "Dersom du ønsker å restarte en beregning midt i et Jupyter document, så kan du slette alle tidligere variable gjennom en [magic-function](https://ipython.readthedocs.io/en/stable/interactive/magics.html)\n"
   ]
  },
  {
   "cell_type": "code",
   "execution_count": 4,
   "metadata": {},
   "outputs": [
    {
     "name": "stdout",
     "output_type": "stream",
     "text": [
      "a og b er ikke definert!\n"
     ]
    }
   ],
   "source": [
    "%reset -f\n",
    "try:\n",
    "    print(a+b)\n",
    "except NameError: \n",
    "    print('a og b er ikke definert!')"
   ]
  },
  {
   "cell_type": "markdown",
   "metadata": {},
   "source": [
    "Merk at gjennom magic-funksjonen `%reset -f` så slettes alle variable som har blitt definert opp til nå. Det finnes mange magic-funksjoner. Noen av de viktigste er:\n",
    "\n",
    "   * `%matplotlib inline`  (For plotting inline med matplotlib)\n",
    "   * `%load` (laster inn kode fra eksternt skript)\n",
    "   * `%precision 4` (Setter antall tall etter komma for pretty-printing)\n",
    "   * `%pwd` (Returnerer present working directory)\n",
    "   * `%pylab` (Hvis du jobber mye med numpy og matplotlib)\n",
    "   * `%run` (Kjør en navngitt fil som et program)"
   ]
  },
  {
   "cell_type": "code",
   "execution_count": 5,
   "metadata": {},
   "outputs": [
    {
     "data": {
      "text/plain": [
       "'/Users/mikaelmortensen/MySoftware/MEK1100/notebooks'"
      ]
     },
     "execution_count": 5,
     "metadata": {},
     "output_type": "execute_result"
    }
   ],
   "source": [
    "%pwd"
   ]
  },
  {
   "cell_type": "markdown",
   "metadata": {},
   "source": [
    "Når man lager et Jupyter dokument så er koden sannsynligvis godt dokumnetert med alt det man skriver i text-boksene (som denne). I rene Python-filer har man ingen tekst-bokser, så man må lære seg å dokumentere koden sin på annen måte. Linjekommentarer i Python starter med tegnet\n",
    "`#` og alt fra dette tegnet og ut linja vil oppfattes som kommentar.  Kommentarer over flere linjer er definert ved 3 tegn før og etter kommentaren."
   ]
  },
  {
   "cell_type": "code",
   "execution_count": 6,
   "metadata": {},
   "outputs": [
    {
     "data": {
      "text/plain": [
       "'Dette er en kommentar som \\ngår over\\nflere \\nlinjer\\n'"
      ]
     },
     "execution_count": 6,
     "metadata": {},
     "output_type": "execute_result"
    }
   ],
   "source": [
    "# Dette er en kommentar i Python kode\n",
    "\n",
    "\"\"\"Dette er en kommentar som \n",
    "går over\n",
    "flere \n",
    "linjer\n",
    "\"\"\""
   ]
  },
  {
   "cell_type": "markdown",
   "metadata": {},
   "source": [
    "Merk at Jupyter oppfatter teksten mellom de to triplequote'ene `\"\"\"` som en streng, og spytter den ut som output over. Teksten mellom triplequotes er ganske riktig en streng i Python også, men den skrives ikke ut i et vanlig Python program om man ikke ber om det. Man kan for eksempel gjøre "
   ]
  },
  {
   "cell_type": "code",
   "execution_count": 7,
   "metadata": {},
   "outputs": [],
   "source": [
    "s = \"\"\"Dette er en kommentar som \n",
    "går over\n",
    "flere \n",
    "linjer \n",
    "og som fanges opp av variabelen `s`\n",
    "\"\"\""
   ]
  },
  {
   "cell_type": "markdown",
   "metadata": {},
   "source": [
    "Variabelen `s` kan skrives ut, men ikke automatisk (som default)."
   ]
  },
  {
   "cell_type": "code",
   "execution_count": 8,
   "metadata": {},
   "outputs": [
    {
     "name": "stdout",
     "output_type": "stream",
     "text": [
      "Dette er en kommentar som \n",
      "går over\n",
      "flere \n",
      "linjer \n",
      "og som fanges opp av variabelen `s`\n",
      "\n"
     ]
    }
   ],
   "source": [
    "print(s)"
   ]
  },
  {
   "cell_type": "markdown",
   "metadata": {},
   "source": [
    "# Importere `numpy` for numerikk\n",
    "\n",
    "Matematiske konstanter og funksjoner som kan ta argumenter som er både\n",
    "skalarer, lister og arrayer gjøres tilgjengelig fra \\texttt{numpy}:\n",
    "\\begin{verbatim}"
   ]
  },
  {
   "cell_type": "code",
   "execution_count": 9,
   "metadata": {},
   "outputs": [
    {
     "name": "stdout",
     "output_type": "stream",
     "text": [
      "[3.142 0.841]\n"
     ]
    }
   ],
   "source": [
    "import numpy as np\n",
    "%precision 3\n",
    "print(np.array((np.pi, np.sin(1))))"
   ]
  },
  {
   "cell_type": "code",
   "execution_count": 10,
   "metadata": {},
   "outputs": [
    {
     "name": "stdout",
     "output_type": "stream",
     "text": [
      "[0.841 0.909] [0.841 0.909]\n"
     ]
    }
   ],
   "source": [
    "print(np.sin([1, 2]), np.sin(np.array([1, 2])))"
   ]
  },
  {
   "cell_type": "markdown",
   "metadata": {},
   "source": [
    "Her merker vi oss at `[1, 2]` er ei liste mens `np.array([1, 2])` er et objekt av type `numpy.ndarray`, sistnevnte er å foretrekke for numerisk arbeid.  `array()` diskuteres i seksjon ???. Merk også at om vi tar bort `np.array` fra den første print statementen, så blir resultatet en tuple"
   ]
  },
  {
   "cell_type": "code",
   "execution_count": 11,
   "metadata": {},
   "outputs": [
    {
     "name": "stdout",
     "output_type": "stream",
     "text": [
      "(3.141592653589793, 0.8414709848078965)\n"
     ]
    }
   ],
   "source": [
    "print((np.pi, np.sin(1)))"
   ]
  },
  {
   "cell_type": "markdown",
   "metadata": {},
   "source": [
    "Magic funksjonen `precision` styrer bare output for `numpy`-variabler, så her printes Python objektet `(np.pi, np.sin(1))` som et vanlig tuple. Merk at en tuple er en `immutable` type. Det vil si en type som ikke kan forandres etter at den er skapt:"
   ]
  },
  {
   "cell_type": "code",
   "execution_count": 12,
   "metadata": {},
   "outputs": [
    {
     "name": "stdout",
     "output_type": "stream",
     "text": [
      "(2,)\n",
      "TypeError - 'tuple' object does not support item assignment\n"
     ]
    }
   ],
   "source": [
    "t = (0, 1, 2)\n",
    "print(t[2:])\n",
    "try:\n",
    "    t[2] = 2\n",
    "except TypeError:\n",
    "    print(\"TypeError - 'tuple' object does not support item assignment\")"
   ]
  },
  {
   "cell_type": "markdown",
   "metadata": {},
   "source": [
    "# Importere `matplotlib.pyplot` for grafikk\n"
   ]
  }
 ],
 "metadata": {
  "kernelspec": {
   "display_name": "Python 3",
   "language": "python",
   "name": "python3"
  },
  "language_info": {
   "codemirror_mode": {
    "name": "ipython",
    "version": 3
   },
   "file_extension": ".py",
   "mimetype": "text/x-python",
   "name": "python",
   "nbconvert_exporter": "python",
   "pygments_lexer": "ipython3",
   "version": "3.8.0"
  }
 },
 "nbformat": 4,
 "nbformat_minor": 2
}
