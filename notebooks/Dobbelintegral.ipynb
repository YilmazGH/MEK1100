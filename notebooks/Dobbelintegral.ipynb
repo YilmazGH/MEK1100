{
 "cells": [
  {
   "cell_type": "markdown",
   "metadata": {},
   "source": [
    "# Eksempel 2.15 Vector Calculus\n",
    "\n",
    "Finn flateintegralet \n",
    "\n",
    "$$\n",
    "\\int \\vec{r}\\cdot{n}d\\sigma\n",
    "$$\n",
    "\n",
    "når \n",
    "\n",
    "$$\n",
    "\\vec{r}=x\\mathbf{i} + y\\mathbf{j} + (1-x^2-y^2)\\mathbf{k}\n",
    "$$ \n",
    "\n",
    "og $x^2+y^2 < 1$.\n",
    "\n",
    "Vi kan gå analytisk til verks som i VC s 37 og finne at integralet tilsvarer\n",
    "\n",
    "$$\n",
    "\\begin{align}\n",
    "\\int \\vec{r}\\cdot{n}d\\sigma &= \\int_{-1}^2 \\int_{-\\sqrt{1-x^2}}^{\\sqrt{1-x^2}} \\vec{r} \\cdot \\frac{\\partial \\vec{r}}{\\partial x} \\times \\frac{\\partial \\vec{r}}{\\partial y} dy dx \\\\\n",
    "&=  \\int_{-1}^1\\int_{-\\sqrt{1-x^2}}^{\\sqrt{1-x^2}}1+x^2+y^2dydx\n",
    "\\end{align}\n",
    "$$\n",
    "\n",
    "Dobbeltintegralet implementeres først eksakt i sympy som to itererte integraler, først i $y$-retning, så i $x$-retning."
   ]
  },
  {
   "cell_type": "code",
   "execution_count": 1,
   "metadata": {},
   "outputs": [
    {
     "name": "stdout",
     "output_type": "stream",
     "text": [
      "Svaret er 3*pi/2\n"
     ]
    }
   ],
   "source": [
    "import sympy as sp\n",
    "x, y = sp.symbols('x,y')\n",
    "f = 1+x**2+y**2\n",
    "II = sp.integrate(sp.integrate(f, (y, -sp.sqrt(1-x**2), sp.sqrt(1-x**2))), (x, -1, 1))\n",
    "print('Svaret er', II)"
   ]
  },
  {
   "cell_type": "markdown",
   "metadata": {},
   "source": [
    "Vi kan så beregne dobbeltintegralet numerisk ved å bruke [scipy.integrate.dblquad](https://docs.scipy.org/doc/scipy/reference/generated/scipy.integrate.dblquad.html)"
   ]
  },
  {
   "cell_type": "code",
   "execution_count": 2,
   "metadata": {},
   "outputs": [
    {
     "name": "stdout",
     "output_type": "stream",
     "text": [
      "Numerisk resultat 4.712388980384572\n"
     ]
    }
   ],
   "source": [
    "import numpy as np\n",
    "from scipy.integrate import dblquad\n",
    "a = dblquad(lambda x, y: 1+x**2+y**2, -1, 1, lambda x: -np.sqrt(1-x**2), lambda x: np.sqrt(1-x**2))\n",
    "print('Numerisk resultat', a[0])"
   ]
  },
  {
   "cell_type": "code",
   "execution_count": null,
   "metadata": {},
   "outputs": [],
   "source": []
  }
 ],
 "metadata": {
  "kernelspec": {
   "display_name": "Python 3",
   "language": "python",
   "name": "python3"
  },
  "language_info": {
   "codemirror_mode": {
    "name": "ipython",
    "version": 3
   },
   "file_extension": ".py",
   "mimetype": "text/x-python",
   "name": "python",
   "nbconvert_exporter": "python",
   "pygments_lexer": "ipython3",
   "version": "3.8.0"
  }
 },
 "nbformat": 4,
 "nbformat_minor": 2
}
